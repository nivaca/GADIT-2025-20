{
 "cells": [
  {
   "cell_type": "markdown",
   "metadata": {
    "id": "InM5wiIxnZg0"
   },
   "source": [
    "# 1. Buscar RegEx\n",
    "\n",
    "Empecemos haciendo búsquedas de RegEx en un archivo."
   ]
  },
  {
   "cell_type": "code",
   "execution_count": null,
   "metadata": {
    "id": "wUXcjjDgCmGL"
   },
   "outputs": [],
   "source": [
    "import re\n",
    "nombre_archivo = \"Quijote.txt\"\n",
    "with open(nombre_archivo, \"r\") as f:\n",
    "  contenido_archivo = f.read()"
   ]
  },
  {
   "cell_type": "markdown",
   "metadata": {
    "id": "6SYVc8NeemSk"
   },
   "source": [
    "## Explicación del código\n",
    "- l. 1: Las funciones de RegEx están en la librería estándar `re` de Python.\n",
    "- l. 3: Creamos un objeto llamado `f`, que es el archivo \"Quijote.txt\" abierto en modo lectura (\"r\").\n",
    "- l. 4. Guardamos todo el contenido del archivo (obtenido mediante la función o método `read` del objeto `f`) en la variable `contenido_archivo`.\n",
    "\n",
    "### Importantísimo ⚠⚠⚠\n",
    "Noten que l. 4 está sangrada (indentada) dos espacios a la derecha. Esta es la forma como en Python creamos bloques de texto. Este sangrado indica que l. 4 pertenece al bloque iniciado en l. 3. Si no lo indentamos obtendremos un error (y Python nos avisará) o el código funcionará mal."
   ]
  },
  {
   "cell_type": "code",
   "execution_count": null,
   "metadata": {
    "colab": {
     "base_uri": "https://localhost:8080/"
    },
    "id": "NJ8PrPLAVgHx",
    "outputId": "83cd1b73-7908-4bf6-a03f-dfaa902c87d3"
   },
   "outputs": [],
   "source": [
    "patron_busqueda = r\"Sancho\"\n",
    "p = re.compile(patron_busqueda)\n",
    "\n",
    "ocurrencias = re.findall(p, contenido_archivo)\n",
    "\n",
    "print(f\"Encontré {len(ocurrencias)} ocurrencias de '{patron_busqueda}'.\")"
   ]
  },
  {
   "cell_type": "markdown",
   "metadata": {
    "id": "hElCZY7fgA1E"
   },
   "source": [
    "## Explicación del código\n",
    "- l. 1: Guardamos nuestro patrón de búsqueda en una variable nueva. Nótese la \"r\" antes del contenido de la cadena: `r\"Sancho\"`. Esto le indica a Python que es una \"raw string\", es decir, que nos permitirá usar más fácilmente caracteres escapados de RegEx: \"\\n\", \"\\t\", etc. En este caso no se necesita, aunque es buena práctica hacerlo siempre con RegEx.\n",
    "- l. 2: Compilamos el patrón de búsqueda (para agilizar e incluir, como luego haremos, banderas de búsqueda) y lo guardamos en un objeto llamado `p`.\n",
    "- l. 4: La instrucción `re.findall(p, contenido_archivo)` busca el patrón `p` en el contenido de la variable `contenido_archivo` y devuelve una lista de todas las ocurrencias (si las hay); estas se guardan en la variable `instancias`.\n",
    "- l. 5: Muestra en pantalla el número de ocurrencias (con la función `len()`) y el texto buscado."
   ]
  },
  {
   "cell_type": "code",
   "execution_count": null,
   "metadata": {
    "colab": {
     "base_uri": "https://localhost:8080/"
    },
    "id": "9HuHmPGefVpO",
    "outputId": "498f3d3c-164d-4fd3-f087-3b4c582db016"
   },
   "outputs": [],
   "source": [
    "patron_busqueda = r\"SANCHO\"\n",
    "p = re.compile(patron_busqueda)\n",
    "ocurrencias = re.findall(p, contenido_archivo)\n",
    "print(f\"Encontré {len(ocurrencias)} ocurrencias de '{patron_busqueda}'.\")"
   ]
  },
  {
   "cell_type": "markdown",
   "metadata": {
    "id": "d7RVGjuUiHd0"
   },
   "source": [
    "Notemos que la búsqueda distingue entre mayúsculas y minúsculas.\n",
    "¿Cómo evitar esa distinción?"
   ]
  },
  {
   "cell_type": "code",
   "execution_count": null,
   "metadata": {
    "colab": {
     "base_uri": "https://localhost:8080/"
    },
    "id": "eD9aAEuOW4uR",
    "outputId": "bae26cf7-7592-486e-a89b-e5a3c30ad8fe"
   },
   "outputs": [],
   "source": [
    "patron_busqueda = r\"sancho\"\n",
    "p = re.compile(patron_busqueda, re.IGNORECASE)\n",
    "ocurrencias = re.findall(p, contenido_archivo)\n",
    "print(f\"Encontré {len(ocurrencias)} ocurrencias de '{patron_busqueda}'\\\n",
    " sin distinción entre mayúsculas y minúsculas.\")"
   ]
  },
  {
   "cell_type": "markdown",
   "metadata": {
    "id": "_FfQAYX8ipFu"
   },
   "source": [
    "## Explicación del código\n",
    "- l. 2: la bandera `re.IGNORECASE` le indica a Python que la búsqueda de la RegEx no debe distinguir entre mayúsculas y minúsculas.\n",
    "\n",
    "- [Aquí](https://docs.python.org/3/library/re.html#flags) pueden ver todas las banderas disponibles."
   ]
  },
  {
   "cell_type": "markdown",
   "metadata": {
    "id": "mB4XfLeqVc66"
   },
   "source": [
    "Ahora veamos el contexto (la línea completa) de todas las ocurrencias:"
   ]
  },
  {
   "cell_type": "code",
   "execution_count": null,
   "metadata": {
    "colab": {
     "base_uri": "https://localhost:8080/"
    },
    "id": "PlMoKfkkYdjB",
    "outputId": "8c64b73e-0fb8-41eb-8b3a-380f88b99034"
   },
   "outputs": [],
   "source": [
    "for num_linea, linea in enumerate(contenido_archivo.splitlines()):\n",
    "  if re.findall(p, linea):\n",
    "    print(f\"Línea: {num_linea + 1}: {linea}\")"
   ]
  },
  {
   "cell_type": "markdown",
   "metadata": {
    "id": "nDvyfAXgV_mQ"
   },
   "source": [
    "¿Qué es lo que pasa aquí? Mirémos un ejemplo más simple:"
   ]
  },
  {
   "cell_type": "code",
   "execution_count": null,
   "metadata": {
    "colab": {
     "base_uri": "https://localhost:8080/"
    },
    "id": "fRfmUxuO_JQl",
    "outputId": "ed165d5a-6824-41b3-ec0c-81b3837b801d"
   },
   "outputs": [],
   "source": [
    "for l in contenido_archivo.splitlines():\n",
    "  print(l)"
   ]
  },
  {
   "cell_type": "markdown",
   "metadata": {
    "id": "v7Fp3sGlWKIy"
   },
   "source": [
    "Aquí pasamos línea por todo el contenido de archivo, almacenando cada una en la variable `l` y luego mostrándola en pantalla. La función (o método) [`.splitlines`](https://docs.python.org/3/library/stdtypes.html#str.splitlines)  es propia de las cadenas: devuelve una lista de Python para cada una de las líneas que componen una cadena. (La separación se hace cada vez que se encuentra uno de los caracteres de salto de línea: `\\n, \\r`, etc.)"
   ]
  },
  {
   "cell_type": "markdown",
   "metadata": {
    "id": "PjNKowV9YDFy"
   },
   "source": [
    "Ahora miremos la segunda parte:"
   ]
  },
  {
   "cell_type": "code",
   "execution_count": null,
   "metadata": {
    "id": "cX5QYedU_c4y"
   },
   "outputs": [],
   "source": [
    "enumerate(contenido_archivo.splitlines())"
   ]
  },
  {
   "cell_type": "markdown",
   "metadata": {
    "id": "_p0-sl-0Yg4z"
   },
   "source": [
    "Esta instrucción devuelve un objeto iterable que nos dará un conjunto (*set*) compuesto del índice y el contenido de cada ítem.\n",
    "\n",
    "Si ahora ejecutamos esto:"
   ]
  },
  {
   "cell_type": "code",
   "execution_count": null,
   "metadata": {
    "id": "qorAwkNi9ZA_"
   },
   "outputs": [],
   "source": [
    "for num_linea, linea in enumerate(contenido_archivo.splitlines()):\n",
    "  print(f\"Línea: {num_linea + 1}: {linea}\")"
   ]
  },
  {
   "cell_type": "markdown",
   "metadata": {
    "id": "4my3tiNRY5ff"
   },
   "source": [
    "veremos todas el índice de cada línea en el documento y su contenido. (Le tenemos que sumar 1 porque en Python las listas se cuentan desde 0.)\n",
    "\n",
    "Volvamos de nuevo al código anterior:"
   ]
  },
  {
   "cell_type": "code",
   "execution_count": null,
   "metadata": {
    "id": "KzSROFBRZZPS"
   },
   "outputs": [],
   "source": [
    "for num_linea, linea in enumerate(contenido_archivo.splitlines()):\n",
    "  if re.findall(p, linea):\n",
    "    print(f\"Línea: {num_linea + 1}: {linea}\")"
   ]
  },
  {
   "cell_type": "markdown",
   "metadata": {
    "id": "5bvd5aEbbEGB"
   },
   "source": [
    "## Explicación del código\n",
    "- l. 1: Vamos a hacer un bucle (*loop*) de tipo `for`, que pasará línea por línea por el contenido del archivo. Esta instrucción parece complicada, porque va a iterar sobre una pareja (*set*): `num_linea, linea`. Esta pareja es  producida por la instrucción `contenido_archivo.splitlines()`, que rompe el contenido de la cadena `contenido_archivo` en líneas (con el patrón `\\r?\\n`) y devuelve un \"iterable\", un objeto especial de Python.\n",
    "  - En realidad, los bucles *for* son muy simples, por ejemplo:\n",
    "  ```python\n",
    "  for numero in [1, 2, 3, 4, 5]:\n",
    "      print(numero)\n",
    "  ```\n",
    "  mostrará en pantalla: \"1\", \"2\", \"3\", \"4\", \"5\", cada uno en una línea distinta.\n",
    "  Para ello toma uno a uno los ítems de la lista (el iterable) de la izquiera de `in` (`[1, 2, 3, 4, 5]`), guardándolo en la variable `numero`, y ejecutando el bloque de texto bajo sí (que en este ejemplo solo tiene una instrucción, la función `print()`).\n",
    "- La función `enumerate()` toma el iterable y devuelve una pareja (set) de índice (cuál es el número de línea) y su valor (el contenido de la línea).\n",
    "- l. 2: revisa si es verdad que se encontró el patrón en la línea, en cuyo caso ejecuta la instrucción en l. 3 (en su propio bloque de código).\n",
    "- l. 3: ¿Por qué `num_linea + 1`? Porque en Python los índices siempre empiezan en 0. Entonces la línea `0` es en realidad la línea `0 + 1 = 1`, y así sucesivamente.\n"
   ]
  },
  {
   "cell_type": "markdown",
   "metadata": {
    "id": "qGeAUHs0nlnj"
   },
   "source": [
    "Ahora vamos a reemplazar todas las ocurrencias de la palabra `man`(en mayúsculas o minúsculas) por `person` y de `men` por `persons`."
   ]
  },
  {
   "cell_type": "code",
   "execution_count": null,
   "metadata": {
    "id": "wl6WFZf2bZHq"
   },
   "outputs": [],
   "source": [
    "patron_busqueda = r\"\\bhombres?\\b\"\n",
    "\n",
    "p = re.compile(patron_busqueda, re.IGNORECASE)\n",
    "\n",
    "instancias = re.findall(p, contenido_archivo)\n",
    "\n",
    "print(f\"Encontré {len(instancias)} instancias de '{patron_busqueda}',\\\n",
    " sin distinción entre mayúsculas y minúsculas\")\n",
    "\n",
    "for num_linea, linea in enumerate(contenido_archivo.splitlines()):\n",
    "  if re.findall(p, linea):\n",
    "    print(f\"Línea: {num_linea + 1}: {linea}\")"
   ]
  },
  {
   "cell_type": "markdown",
   "metadata": {
    "id": "hezyKtRDmjFK"
   },
   "source": [
    "## Explicación del código\n",
    "\n",
    "- l. 1: El patrón es más elaborado: incluye los límites de palabra `\\b` en ambos lado, para asegurarnos de que solo vamos a tomar una palabra completa (excluyendo e.g. \"gentileshombre\").\n",
    "También usamos el cuantificador `?` delante de la `s` para indicar que la `s` puede estar 0 ó 1 vez (\"hombre\" y \"hombres\").\n",
    "- ll. 10-12: iniciamos otro bucle.\n",
    "- l. 12: en este caso vamos a mostrar el número de línea y el contenido de esta (el contexto de la ocurrencia)."
   ]
  },
  {
   "cell_type": "markdown",
   "metadata": {
    "id": "HmXrc9chduAn"
   },
   "source": [
    "# 2. Reemplazar RegEx\n",
    "\n",
    "Usemos ahora la función `re.sub()` para reemplazar RegEx."
   ]
  },
  {
   "cell_type": "code",
   "execution_count": null,
   "metadata": {
    "colab": {
     "base_uri": "https://localhost:8080/"
    },
    "id": "gOlFUNXjcpQE",
    "outputId": "4bfc1137-ac79-4d09-e485-400c2181e206"
   },
   "outputs": [],
   "source": [
    "patron_busqueda = r\"\\bhombre(s?)\\b\"\n",
    "p = re.compile(patron_busqueda, re.IGNORECASE)\n",
    "\n",
    "reemplazo = r\"persona\\1\"\n",
    "\n",
    "for num_linea, linea in enumerate(contenido_archivo.splitlines()):\n",
    "  if re.findall(p, linea):\n",
    "    linea_nueva = re.sub(patron_busqueda, reemplazo, linea)\n",
    "    print(f\"Línea: {num_linea + 1}: {linea_nueva}\")"
   ]
  },
  {
   "cell_type": "markdown",
   "metadata": {
    "id": "WMU_78qvoaeR"
   },
   "source": [
    "### Explicación del código\n",
    "- l. 1: Complicamos el patrón de búsqueda un poco más. Hemos incluido `s?` entre paréntesis: `(s?)`. Este es un grupo de captura que luego aprovecharemos, si es el caso, en la sustitución.\n",
    "- l. 4: He aquí la sustitución. Supongamos que hemos encontrado \"hombre**s**\". Entonces nuestro grupo de captura #1 tiene \"s\". Podemos referirnos a él (más exactamente, a su contenido) con la RegEx `\\1` (porque solo hay un grupo de captura). Entonces, la sustitución será \"persona**s**\".\n",
    "- l. 6: De nuevo, iteramos sobre el contenido del archivo, línea por línea, con un bucle `for`.\n",
    "- l. 7: Mediante un bloque condicional `if`, revisamos si el patrón `p` está en la línea. La función `re.findall()` busca todas las ocurrencias de un patrón RegEx en una cadena de texto.\n",
    "- l. 8: Si la condición se cumple (es decir, si \"\\bhombre\\b\" está en la línea), entonces la función `re.sub()` substituye *todas* las ocurrencias y guarda la cadena nueva en la variable `linea_nueva`. E.g., \"El hombre hombres hombre\" → \"El persona personas persona\".\n",
    "\n",
    "## ⚠⚠⚠\n",
    "Nótese que la concordancia de género se habrá perdido en muchos casos: \"**el** persona\", \"**los** personas\", etc. Tendríamos que revisar caso por caso para buscar una regla de reemplazo más general. E.g. `\\b(el|los) hombres?\\b`, etc., aunque el reemplazo es más complejo.\n",
    "\n",
    "También tendríamos que revisar concordancia de género en los adjetivos, e.g. \"persona blanc**o**\"."
   ]
  },
  {
   "cell_type": "markdown",
   "metadata": {
    "id": "mkdgmrk6sa7p"
   },
   "source": [
    "## Guardemos los cambios\n",
    "Hagámoslo en un archivo nuevo."
   ]
  },
  {
   "cell_type": "code",
   "execution_count": null,
   "metadata": {
    "colab": {
     "base_uri": "https://localhost:8080/"
    },
    "id": "yn1WdcWlV_lr",
    "outputId": "b641897f-761e-4c06-ce1f-b83a9cab7dc3"
   },
   "outputs": [],
   "source": [
    "nombre_archivo_viejo = \"Quijote.txt\"\n",
    "nombre_archivo_nuevo = \"Quijote_cambiado.txt\"\n",
    "\n",
    "patron_busqueda =r\"\\bhombre(s?)\\b\"\n",
    "p = re.compile(patron_busqueda, re.IGNORECASE)\n",
    "\n",
    "reemplazo = \"persona\\1\"\n",
    "\n",
    "with open(nombre_archivo_viejo, 'r') as fviejo:\n",
    "  contenido_archivo_viejo = fviejo.read()\n",
    "  with open(nombre_archivo_nuevo, 'w') as fnuevo:\n",
    "    for num_linea, linea in enumerate(contenido_archivo_viejo.splitlines()):\n",
    "      if re.findall(patron_busqueda, linea, re.IGNORECASE):\n",
    "        linea_nueva = re.sub(patron_busqueda, reemplazo, linea)\n",
    "      else:\n",
    "        linea_nueva = linea\n",
    "      print(f\"Línea: {num_linea + 1}: {linea_nueva}\")\n",
    "      fnuevo.write(linea_nueva + \"\\n\")"
   ]
  },
  {
   "cell_type": "markdown",
   "metadata": {
    "id": "ryZH724scQpB"
   },
   "source": [
    "# Explicación del código\n",
    "- Empecemos desde cero (para que el código esté autocontenido en esta celda).\n",
    "- ll. 1-2: Los nombres de los archivos: el viejo y el nuevo.\n",
    "- l. 9: abrimos en modo solo lectura (\"r\", de \"read\") el archivo viejo.\n",
    "- l. 11: abrimos en modo escritura (\"w\", de \"write\") el archivo nuevo.\n",
    "- Como estamos trabajando con dos archivos distintos (uno de escritura y otro de lectura) es necesario usar dos objetos de archivo diferentes: `fviejo` y `fnuevo`.\n",
    "- El algoritmo funciona así:\n",
    "  1. Leemos una línea en `fviejo`.\n",
    "  2. ¿Tiene `hombre` en ella? Si sí, lo cambiamos por `persona` en la variable `linea_nueva`.\n",
    "  3. Si no, ¿tiene `hombres` en ella? Si sí, lo cambiamos por `personas` en la variable `linea_nueva`.\n",
    "  4. De lo contrario, lo dejamos tal cual: copiamos la línea original (sin cambios) en la variable `linea_nueva`.\n",
    "  5. Finalmente escribirmos en el archivo `fnuevo` el contenido de `linea_nueva`."
   ]
  },
  {
   "cell_type": "markdown",
   "metadata": {
    "id": "GYOMELSO2CWY"
   },
   "source": [
    "# Búsqueda de expresiones regulares *fuzzy* (borrosas, difusas)\n",
    "\n",
    "Para esto, usaremos la librería [`regex`](https://github.com/mrabarnett/mrab-regex).\n",
    "\n",
    "## Búsquedas aproximadas\n",
    "\n",
    "### Clave\n",
    "\n",
    "- `{i}`: inserción\n",
    "- `{d}`: eliminación\n",
    "- `{s}`: sustitución\n",
    "- `{e}`: errores\n",
    "\n",
    "Si se especifica un tipo de error determinado, no se permitirá ningún tipo no especificado.\n",
    "\n",
    "- `(?:foo){d<=3}` permite como máximo 3 eliminaciones, pero ningún otro tipo\n",
    "- `(?:foo){i<=1,s<=2}` permite como máximo 1 inserción y como máximo 2 sustituciones, pero no eliminaciones\n",
    "- `(?:foo){1<=e<=3}` permite como mínimo 1 y como máximo 3 errores\n",
    "- `(?:foo){i<=2,d<=2,e<=3}` permite como máximo 2 inserciones, como máximo 2 eliminaciones, como máximo 3 errores en total, pero no sustituciones"
   ]
  },
  {
   "cell_type": "markdown",
   "metadata": {
    "id": "X9zxduywEFux"
   },
   "source": [
    "# Veamos algunos ejemplos:"
   ]
  },
  {
   "cell_type": "code",
   "execution_count": null,
   "metadata": {
    "colab": {
     "base_uri": "https://localhost:8080/"
    },
    "id": "j74_Wc2G2ok0",
    "outputId": "c27dee8f-2071-414b-b1a8-73f1a2797c3a"
   },
   "outputs": [],
   "source": [
    "import regex\n",
    "\n",
    "# Ejemplo 1: Errores ortográficos y faltas comunes en español\n",
    "texto = \"Me gusta la programación en Python y también programasión en JavaScript\"\n",
    "\n",
    "patron1 = r\"(?:programación){e<=2}\"\n",
    "ocurrencias = regex.findall(patron1, texto)\n",
    "print(f\"Coincidencia difusa de 'programación': {ocurrencias}\")\n",
    "\n",
    "patron2 = r\"(?:programación){e<=1}\"\n",
    "ocurrencias = regex.findall(patron2, texto)\n",
    "print(f\"Coincidencia difusa de 'programación': {ocurrencias}\")\n",
    "\n",
    "patron3 = r\"(?:programación){e<=1}\"\n",
    "ocurrencias = regex.findall(patron2, texto)\n",
    "print(f\"Coincidencia difusa de 'programación': {ocurrencias}\")"
   ]
  },
  {
   "cell_type": "code",
   "execution_count": null,
   "metadata": {
    "id": "PFX6y98X-Gdc"
   },
   "outputs": [],
   "source": [
    "# Ejemplo 2: Coincidencias sin acentos (muy común en español)\n",
    "texto = \"El niño come manzanas rojas en el jardin\"\n",
    "patron = r\"(?:jardín){e<=1}\"\n",
    "ocurrencias = regex.findall(patron, texto)\n",
    "print(f\"Coincidencia difusa de acentos: {ocurrencias}\")"
   ]
  },
  {
   "cell_type": "code",
   "execution_count": null,
   "metadata": {
    "id": "zu5CkoB3_BWl"
   },
   "outputs": [],
   "source": [
    "# Ejemplo 3: Confusiones comunes de palabras en español\n",
    "texto = \"Ay que ir a la casa ahora\"\n",
    "patron = r\"\\b(?:Hay){e<=1}\\b\"\n",
    "ocurrencias = regex.findall(patron, texto)\n",
    "print(f\"Confusión Hay/Ay: {ocurrencias}\")\n"
   ]
  },
  {
   "cell_type": "code",
   "execution_count": null,
   "metadata": {
    "colab": {
     "base_uri": "https://localhost:8080/"
    },
    "id": "w2Wm1AKO_dYg",
    "outputId": "87f39bc7-ce65-46f1-e404-b670e3b9d7c7"
   },
   "outputs": [],
   "source": [
    "# Ejemplo 4: Variaciones en conjugaciones verbales\n",
    "texto = \"Los estudiante estudian matemáticas y física\"\n",
    "patron = r\"(?:estudiantes){e<=2}\"\n",
    "ocurrencias = regex.findall(patron, texto)\n",
    "print(f\"Coincidencia de forma verbal: {ocurrencias}\")"
   ]
  },
  {
   "cell_type": "code",
   "execution_count": null,
   "metadata": {
    "colab": {
     "base_uri": "https://localhost:8080/"
    },
    "id": "ZVg_SWdG_9i5",
    "outputId": "87c885bd-09b7-4976-b8eb-f0b7552bba43"
   },
   "outputs": [],
   "source": [
    "# Ejemplo 5: Nombres geográficos con variaciones\n",
    "texto = \"Vivo en Méjico, es un país hermoso\"  # Grafía antigua de \"México\"\n",
    "patron = r\"(?:México){e<=1}\"\n",
    "ocurrencias = regex.findall(patron, texto)\n",
    "print(f\"Variación geográfica: {ocurrencias}\")"
   ]
  },
  {
   "cell_type": "code",
   "execution_count": null,
   "metadata": {
    "colab": {
     "base_uri": "https://localhost:8080/"
    },
    "id": "YRvqpM8PAlML",
    "outputId": "a579dc3d-c1b6-4af4-c74e-5a476c655f35"
   },
   "outputs": [],
   "source": [
    "# Ejemplo 6: Errores ortográficos comunes en español - letras dobles\n",
    "texto = \"La communicación es importante\"  # Debería ser \"comunicación\"\n",
    "patron = r\"(?:comunicación){e<=2}\"\n",
    "ocurrencias = regex.findall(patron, texto)\n",
    "print(f\"Error de letra doble: {ocurrencias}\")"
   ]
  },
  {
   "cell_type": "code",
   "execution_count": null,
   "metadata": {
    "colab": {
     "base_uri": "https://localhost:8080/"
    },
    "id": "EwqYZQDABDNO",
    "outputId": "48c065be-37d8-4461-d05c-1e677f8ea4d5"
   },
   "outputs": [],
   "source": [
    "# Ejemplo 7: Doble \"m\" (inserción)\n",
    "texto = \"La communicación es importante\"\n",
    "patron = r\"(?:comunicación){i<=1}\"\n",
    "ocurrencias = regex.findall(patron, texto)\n",
    "print(f\"Patrón {patron}: {ocurrencias}\")"
   ]
  },
  {
   "cell_type": "code",
   "execution_count": null,
   "metadata": {
    "colab": {
     "base_uri": "https://localhost:8080/"
    },
    "id": "LUQsBMYoBWY-",
    "outputId": "0efc3817-8cc7-40c6-a64b-e39a07f08317"
   },
   "outputs": [],
   "source": [
    "# Ejemplo 8: Confusión b/v (sustitución)\n",
    "texto = \"Voy a haber si puedo ayudarte\"  # \"b\" en lugar de \"v\"\n",
    "patron = r\"(?:ver){s<=1}\"\n",
    "ocurrencias = regex.findall(patron, texto)\n",
    "print(f\"Patrón {patron}: {ocurrencias}\")"
   ]
  },
  {
   "cell_type": "code",
   "execution_count": null,
   "metadata": {
    "colab": {
     "base_uri": "https://localhost:8080/"
    },
    "id": "10p0_D0PB-eE",
    "outputId": "5310d0e4-dd84-403e-e816-b49729315c55"
   },
   "outputs": [],
   "source": [
    "# Ejemplo 9: limpiar texto OCR\n",
    "\n",
    "texto = \"La educaci0n es muy imp0rtante para el desarr0llo\"\n",
    "patron = r\"(?:educación){s<=2,i<=0,d<=0}\"\n",
    "ocurrencias = regex.findall(patron, texto)\n",
    "print(f\"Encontrado: {ocurrencias}\")\n",
    "\n",
    "nueva_linea = regex.sub(patron, \"educación\", texto)\n",
    "print(f\"Sustitución: {nueva_linea}\")\n"
   ]
  }
 ],
 "metadata": {
  "colab": {
   "provenance": []
  },
  "kernelspec": {
   "display_name": "Python 3 (ipykernel)",
   "language": "python",
   "name": "python3"
  },
  "language_info": {
   "codemirror_mode": {
    "name": "ipython",
    "version": 3
   },
   "file_extension": ".py",
   "mimetype": "text/x-python",
   "name": "python",
   "nbconvert_exporter": "python",
   "pygments_lexer": "ipython3",
   "version": "3.13.7"
  }
 },
 "nbformat": 4,
 "nbformat_minor": 4
}

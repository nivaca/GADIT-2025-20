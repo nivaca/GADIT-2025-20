{
 "cells": [
  {
   "cell_type": "markdown",
   "id": "b5cf1cbd",
   "metadata": {},
   "source": [
    "# Gestión y análisis de datos, imágenes y texto - Tec Monterrey (2025-20)\n",
    "## Texto digital\n",
    "## Introducción a TEI\n",
    "## [Nicolás Vaughan](https://posgradosfacartes.uniandes.edu.co/miembro/nicolas-vaughan-caro/)\n",
    "\n",
    "---"
   ]
  },
  {
   "cell_type": "markdown",
   "id": "383cd3ab",
   "metadata": {},
   "source": [
    "# Instrucciones\n",
    "Vamos a marcar en TEI [esta denuncia de c.1793](assets/denuncia.pdf), cuya autora es Antolina Matute.\n",
    "\n",
    "La imagen fue tomada de:\n",
    "\n",
    "`José Luis Ramírez Luengo, \"La cotidianidad perseguida: lo prohibido en la América virreinal\". En: Concepción Company Company (coord.), *Hablar y leer en América*. Ciudad de México: El Colegio Nacional de México; Bogotá: Universidad de los Andes / Centro Regional para el Fomento del Libro en América Latina y el Caribe, 2023, pp. 203-258 (223).`"
   ]
  },
  {
   "cell_type": "markdown",
   "id": "3aa1a3fe",
   "metadata": {},
   "source": [
    "En el Oxygen XML Editor (el del ícono azul) creen un documento TEI P5 nuevo. Selecciones la plantilla llamada `TEI All`:\n",
    "\n",
    "![oxygen](img/oxygen01.png)"
   ]
  },
  {
   "cell_type": "markdown",
   "id": "c545d2c0",
   "metadata": {},
   "source": [
    "## Recursos de consulta\n",
    "- [Presentación para el curso](assets/Intro_TEI_2025-20.pdf)\n",
    "- [Documentación de la versión P5 de TEI](https://tei-c.org/guidelines/p5/)\n",
    "  - [Apéndice C: Elementos](https://tei-c.org/release/doc/tei-p5-doc/en/html/REF-ELEMENTS.html)\n",
    "- [TEI by Example](https://teibyexample.org/TBE.htm)\n",
    "- [TEI Encoder (GPT)](https://chatgpt.com/g/g-673b225859ac8191a04d3d696dfe4f6d-tei-encoder)"
   ]
  },
  {
   "cell_type": "markdown",
   "id": "df770531-c34d-4a40-bc79-950ac692bf19",
   "metadata": {},
   "source": [
    "## Tarea\n",
    "Marquen en TEI [este centón de c.1682](assets/centón.pdf), cuyo autor es Alonso Ramírez de Vargas. Tengan en cuenta:\n",
    "\n",
    "- Normalicen la ortografía: e.g., \"Principe\" → \"Príncipe\"\n",
    "- Expandan todas las abreviaturas: e.g., \"aū\" → \"aun\"\n",
    "- Marquen los nombres de personas, lugar, etc., e.g. \"Delos\"\n",
    "- Solo marquen la primera estrofa (17vv.) con `<lg n=\"1\">...</lg>`.\n",
    "- Numeren cada verso (con `@n`). Los versos son `<l>...</l>`.\n",
    "- En lugar del `*` marquen la cesura entre los dos hemistiquios con `<caesura/>`.\n",
    "- Marquen cada hemistiquio con `<seg>...</seg>`, e.g.\n",
    "  ```xml\n",
    "  <l n=\"17\">\n",
    "    <seg>\n",
    "      De el mar siempre sonante\n",
    "    </seg>\n",
    "    <caesura/>\n",
    "    <seg>\n",
    "      mas\n",
    "    </seg>\n",
    "  </l>\n",
    "  ```\n",
    "- Por ahora no hagan nada con las columnas derecha e izquiera. Son referencias cruzadas. Luego les muestro cómo usamos esa información.\n",
    "\n",
    "---\n",
    "\n",
    "La imagen fue tomada de:\n",
    "\n",
    "`Jorge Gutiérrez Reyna, \"Fiesta y poesía: los certámenes en el México virreinal\". En: Concepción Company Company (coord.), *Hablar y leer en América*. Ciudad de México: El Colegio Nacional de México; Bogotá: Universidad de los Andes / Centro Regional para el Fomento del Libro en América Latina y el Caribe, 2023 p. 417.`"
   ]
  }
 ],
 "metadata": {
  "kernelspec": {
   "display_name": "Python 3 (ipykernel)",
   "language": "python",
   "name": "python3"
  },
  "language_info": {
   "codemirror_mode": {
    "name": "ipython",
    "version": 3
   },
   "file_extension": ".py",
   "mimetype": "text/x-python",
   "name": "python",
   "nbconvert_exporter": "python",
   "pygments_lexer": "ipython3",
   "version": "3.13.7"
  },
  "vscode": {
   "interpreter": {
    "hash": "e7370f93d1d0cde622a1f8e1c04877d8463912d04d973331ad4851f04de6915a"
   }
  }
 },
 "nbformat": 4,
 "nbformat_minor": 5
}
